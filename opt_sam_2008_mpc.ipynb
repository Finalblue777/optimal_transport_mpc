{
 "cells": [
  {
   "cell_type": "code",
   "execution_count": 11,
   "metadata": {},
   "outputs": [],
   "source": [
    "import ot as ot\n",
    "import numpy as np\n",
    "import pandas as pd\n",
    "import numpy as np\n",
    "from scipy.stats import gaussian_kde"
   ]
  },
  {
   "cell_type": "code",
   "execution_count": 43,
   "metadata": {},
   "outputs": [],
   "source": [
    "data = pd.read_stata('PSJMReplication.dta')\n",
    "sample = data[(data['iesp'] ==1)]\n",
    "nosample = data[(data['iesp'] ==0) ]"
   ]
  },
  {
   "cell_type": "code",
   "execution_count": 53,
   "metadata": {},
   "outputs": [
    {
     "data": {
      "text/plain": [
       "583"
      ]
     },
     "execution_count": 53,
     "metadata": {},
     "output_type": "execute_result"
    }
   ],
   "source": [
    "len(nosample)"
   ]
  },
  {
   "cell_type": "code",
   "execution_count": 54,
   "metadata": {},
   "outputs": [
    {
     "data": {
      "text/plain": [
       "5576"
      ]
     },
     "execution_count": 54,
     "metadata": {},
     "output_type": "execute_result"
    }
   ],
   "source": [
    "np.sum(data['age']>=58)"
   ]
  },
  {
   "cell_type": "code",
   "execution_count": 46,
   "metadata": {},
   "outputs": [],
   "source": [
    "xs = sample['dcn']\n",
    "xs = xs.to_numpy()\n",
    "xt = nosample['dcn']\n",
    "xt = xt.to_numpy()\n",
    "xs_reshaped = xs.reshape(-1, 1)\n",
    "xt_reshaped = xt.reshape(-1, 1)"
   ]
  },
  {
   "cell_type": "code",
   "execution_count": null,
   "metadata": {},
   "outputs": [],
   "source": [
    "s_array = np.arange(0, 200, 10)\n",
    "plabebo_statistics = np.zeros((len(s_array),1))\n",
    "j=0\n",
    "for d in s_array:\n",
    "    placebo_samples = 100\n",
    "    s = np.zeros((placebo_samples,1))\n",
    "    for i in range(placebo_samples):\n",
    "        xs_placebo_1  = np.random.choice(xs, size=1275, replace=True)\n",
    "        xs_placebo_2  = np.random.choice(xs, size=1275, replace=True)\n",
    "\n",
    "        xs_placebo_1_reshaped = xs_placebo_1.reshape(-1, 1)\n",
    "        xs_placebo_2_reshaped = xs_placebo_2.reshape(-1, 1)\n",
    "        Mp = ot.dist(xs_placebo_1_reshaped, xs_placebo_2_reshaped, metric='cityblock')\n",
    "        M=Mp>d\n",
    "\n",
    "        # Assuming your dataset is in a numpy array called data\n",
    "\n",
    "        # Fit KDE to data\n",
    "        kde_xs1 = gaussian_kde(xs_placebo_1)\n",
    "        kde_xs2 = gaussian_kde(xs_placebo_2)\n",
    "        W = ot.emd2(kde_xs1(xs_placebo_1)/np.sum(kde_xs1(xs_placebo_1)), kde_xs2(xs_placebo_2)/np.sum(kde_xs2(xs_placebo_2)), M) \n",
    "        s[i] = W\n",
    "    average_s = np.mean(s)\n",
    "    print(np.mean(s))\n",
    "    plabebo_statistics[j] = average_s\n",
    "    j=j+1"
   ]
  },
  {
   "cell_type": "code",
   "execution_count": 52,
   "metadata": {},
   "outputs": [
    {
     "name": "stdout",
     "output_type": "stream",
     "text": [
      "Lower Bound on the Number of People that Changed Consumption 0.04517841648826379\n"
     ]
    }
   ],
   "source": [
    "W_statistic = np.zeros((len(s_array),1))\n",
    "j = 0\n",
    "for d in s_array:\n",
    "    # Fit KDE to data\n",
    "    kde_xs = gaussian_kde(xs)\n",
    "    kde_xt = gaussian_kde(xt)\n",
    "    #run ot\n",
    "    Mp = ot.dist(xs_reshaped, xt_reshaped, metric='cityblock')\n",
    "    M=Mp>d\n",
    "    W = ot.emd2(kde_xs(xs)/np.sum(kde_xs(xs)), kde_xt(xt)/np.sum(kde_xt(xt)), M) \n",
    "    W_statistic[j] = W\n",
    "    j=j+1"
   ]
  },
  {
   "cell_type": "code",
   "execution_count": null,
   "metadata": {},
   "outputs": [],
   "source": []
  },
  {
   "cell_type": "code",
   "execution_count": null,
   "metadata": {},
   "outputs": [],
   "source": []
  }
 ],
 "metadata": {
  "kernelspec": {
   "display_name": "base",
   "language": "python",
   "name": "python3"
  },
  "language_info": {
   "codemirror_mode": {
    "name": "ipython",
    "version": 3
   },
   "file_extension": ".py",
   "mimetype": "text/x-python",
   "name": "python",
   "nbconvert_exporter": "python",
   "pygments_lexer": "ipython3",
   "version": "3.10.9"
  }
 },
 "nbformat": 4,
 "nbformat_minor": 2
}
